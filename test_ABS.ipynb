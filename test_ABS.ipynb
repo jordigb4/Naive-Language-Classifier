{
 "cells": [
  {
   "cell_type": "markdown",
   "metadata": {},
   "source": [
    "# Test"
   ]
  },
  {
   "cell_type": "code",
   "execution_count": null,
   "metadata": {},
   "outputs": [],
   "source": [
    "from language_identifier import LanguageIdentifier\n",
    "from sklearn.metrics import confusion_matrix, accuracy_score, ConfusionMatrixDisplay\n",
    "import matplotlib.pyplot as plt \n",
    "import numpy as np"
   ]
  },
  {
   "cell_type": "code",
   "execution_count": null,
   "metadata": {},
   "outputs": [],
   "source": [
    "LangId = LanguageIdentifier()"
   ]
  },
  {
   "cell_type": "markdown",
   "metadata": {},
   "source": [
    "# ABSOLUTE DISCOUNTING\n"
   ]
  },
  {
   "cell_type": "markdown",
   "metadata": {},
   "source": [
    "## METRICS"
   ]
  },
  {
   "cell_type": "code",
   "execution_count": null,
   "metadata": {},
   "outputs": [],
   "source": [
    "deu_pred = LangId.identify_language(f\"corpora/deu_tst.txt\",smoothing = \"Abs_disc\")\n",
    "eng_pred = LangId.identify_language(f\"corpora/eng_tst.txt\" ,smoothing = \"Abs_disc\")\n",
    "fra_pred = LangId.identify_language(f\"corpora/fra_tst.txt\"  ,smoothing = \"Abs_disc\")\n",
    "ita_pred = LangId.identify_language(f\"corpora/ita_tst.txt\" ,smoothing = \"Abs_disc\")\n",
    "nld_pred = LangId.identify_language(f\"corpora/nld_tst.txt\" ,smoothing = \"Abs_disc\")\n",
    "spa_pred = LangId.identify_language(f\"corpora/spa_tst.txt\"  ,smoothing = \"Abs_disc\")"
   ]
  },
  {
   "cell_type": "code",
   "execution_count": null,
   "metadata": {},
   "outputs": [],
   "source": [
    "deu_true = np.full(deu_pred.shape[0],'deu')\n",
    "eng_true = np.full(eng_pred.shape[0],'eng')\n",
    "fra_true = np.full(fra_pred.shape[0],'fra')\n",
    "ita_true = np.full(ita_pred.shape[0],'ita')\n",
    "nld_true = np.full(nld_pred.shape[0],'nld')\n",
    "spa_true = np.full(spa_pred.shape[0],'spa')"
   ]
  },
  {
   "cell_type": "code",
   "execution_count": null,
   "metadata": {},
   "outputs": [],
   "source": [
    "y_pred = np.concatenate([deu_pred, eng_pred, fra_pred, ita_pred, nld_pred, spa_pred])\n",
    "y_true = np.concatenate([deu_true, eng_true, fra_true, ita_true, nld_true, spa_true])"
   ]
  },
  {
   "cell_type": "code",
   "execution_count": null,
   "metadata": {},
   "outputs": [],
   "source": [
    "cm = confusion_matrix(y_true, y_pred)\n",
    "acc = accuracy_score(y_true, y_pred)\n",
    "acc"
   ]
  },
  {
   "cell_type": "code",
   "execution_count": null,
   "metadata": {},
   "outputs": [],
   "source": [
    "disp = ConfusionMatrixDisplay(confusion_matrix = cm, display_labels=[\"deu\", \"eng\", \"fra\", \"ita\", \"nld\", \"spa\"])\n",
    "disp.plot()"
   ]
  },
  {
   "cell_type": "markdown",
   "metadata": {},
   "source": [
    "# LIDSTONE"
   ]
  },
  {
   "cell_type": "code",
   "execution_count": null,
   "metadata": {},
   "outputs": [],
   "source": [
    "deu_pred_LID = LangId.identify_language(f\"corpora/deu_tst.txt\",smoothing = \"Lidstone\")\n",
    "eng_pred_LID = LangId.identify_language(f\"corpora/eng_tst.txt\" ,smoothing = \"Lidstone\")\n",
    "fra_pred_LID = LangId.identify_language(f\"corpora/fra_tst.txt\"  ,smoothing = \"Lidstone\")\n",
    "ita_pred_LID= LangId.identify_language(f\"corpora/ita_tst.txt\" ,smoothing = \"Lidstone\")\n",
    "nld_pred_LID = LangId.identify_language(f\"corpora/nld_tst.txt\" ,smoothing = \"Lidstone\")\n",
    "spa_pred_LID= LangId.identify_language(f\"corpora/spa_tst.txt\"  ,smoothing = \"Lidstone\")"
   ]
  },
  {
   "cell_type": "code",
   "execution_count": null,
   "metadata": {},
   "outputs": [],
   "source": [
    "y_pred_LID = np.concatenate([deu_pred_LID, eng_pred_LID, fra_pred_LID, ita_pred_LID, nld_pred_LID, spa_pred_LID])"
   ]
  },
  {
   "cell_type": "code",
   "execution_count": null,
   "metadata": {},
   "outputs": [],
   "source": [
    "cm_LID= confusion_matrix(y_true, y_pred_LID)\n",
    "acc_LID = accuracy_score(y_true, y_pred_LID)\n",
    "acc_LID"
   ]
  },
  {
   "cell_type": "code",
   "execution_count": null,
   "metadata": {},
   "outputs": [],
   "source": [
    "disp = ConfusionMatrixDisplay(confusion_matrix = cm_LID, display_labels=[\"deu\", \"eng\", \"fra\", \"ita\", \"nld\", \"spa\"])\n",
    "disp.plot()"
   ]
  }
 ],
 "metadata": {
  "kernelspec": {
   "display_name": "Python 3",
   "language": "python",
   "name": "python3"
  },
  "language_info": {
   "codemirror_mode": {
    "name": "ipython",
    "version": 3
   },
   "file_extension": ".py",
   "mimetype": "text/x-python",
   "name": "python",
   "nbconvert_exporter": "python",
   "pygments_lexer": "ipython3",
   "version": "3.10.10"
  }
 },
 "nbformat": 4,
 "nbformat_minor": 2
}
