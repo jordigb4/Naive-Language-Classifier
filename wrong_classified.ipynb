{
 "cells": [
  {
   "cell_type": "code",
   "execution_count": 17,
   "metadata": {},
   "outputs": [],
   "source": [
    "from language_identifier import LanguageIdentifier\n",
    "from Preprocessing.preprocessing import preprocessing\n",
    "import numpy as np\n",
    "import pandas as pd"
   ]
  },
  {
   "cell_type": "code",
   "execution_count": 18,
   "metadata": {},
   "outputs": [],
   "source": [
    "LangId = LanguageIdentifier()"
   ]
  },
  {
   "cell_type": "code",
   "execution_count": null,
   "metadata": {},
   "outputs": [],
   "source": [
    "all_wrong = pd.DataFrame(columns = [\"phrases\", \"pred\", \"true\"])\n",
    "\n",
    "languages = ['deu', 'eng', 'fra', 'ita', 'nld', 'spa']\n",
    "for language in languages:\n",
    "\n",
    "    with open(f\"corpora/{language}_tst.txt\", 'r', encoding='utf-8') as file:\n",
    "        text = preprocessing(file.read())\n",
    "    phrases = text.split(\"  \")\n",
    "    for i, phrase in enumerate(phrases):\n",
    "        pred = LangId.identify_language(phrase)\n",
    "        if pred != language: \n",
    "            all_wrong.loc[len(all_wrong)] = {\"phrases\": phrase, \"pred\" : pred, \"true\" : language}\n",
    "            print(i+1)"
   ]
  },
  {
   "cell_type": "code",
   "execution_count": 20,
   "metadata": {},
   "outputs": [],
   "source": [
    "all_wrong.to_csv(\"all_wrong_LID.csv\", index=False)"
   ]
  },
  {
   "cell_type": "code",
   "execution_count": 21,
   "metadata": {},
   "outputs": [
    {
     "data": {
      "text/plain": [
       "(74, 3)"
      ]
     },
     "execution_count": 21,
     "metadata": {},
     "output_type": "execute_result"
    }
   ],
   "source": [
    "all_wrong.shape"
   ]
  }
 ],
 "metadata": {
  "kernelspec": {
   "display_name": "Python 3",
   "language": "python",
   "name": "python3"
  },
  "language_info": {
   "codemirror_mode": {
    "name": "ipython",
    "version": 3
   },
   "file_extension": ".py",
   "mimetype": "text/x-python",
   "name": "python",
   "nbconvert_exporter": "python",
   "pygments_lexer": "ipython3",
   "version": "3.10.10"
  }
 },
 "nbformat": 4,
 "nbformat_minor": 2
}
