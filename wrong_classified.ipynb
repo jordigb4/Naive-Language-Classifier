{
 "cells": [
  {
   "cell_type": "code",
   "execution_count": 44,
   "metadata": {},
   "outputs": [],
   "source": [
    "from language_identifier import LanguageIdentifier\n",
    "import numpy as np\n",
    "import pandas as pd"
   ]
  },
  {
   "cell_type": "code",
   "execution_count": null,
   "metadata": {},
   "outputs": [],
   "source": [
    "LangId = LanguageIdentifier()"
   ]
  },
  {
   "cell_type": "code",
   "execution_count": 45,
   "metadata": {},
   "outputs": [],
   "source": [
    "deu_pred = LangId.predict_probs(f\"corpora/deu_tst.txt\")\n",
    "eng_pred = LangId.predict_probs(f\"corpora/eng_tst.txt\")\n",
    "fra_pred = LangId.predict_probs(f\"corpora/fra_tst.txt\")\n",
    "ita_pred = LangId.predict_probs(f\"corpora/ita_tst.txt\")\n",
    "nld_pred = LangId.predict_probs(f\"corpora/nld_tst.txt\")\n",
    "spa_pred = LangId.predict_probs(f\"corpora/spa_tst.txt\")"
   ]
  },
  {
   "cell_type": "code",
   "execution_count": 47,
   "metadata": {},
   "outputs": [],
   "source": [
    "deu_true = np.full(len(deu_pred),'deu')\n",
    "eng_true = np.full(len(eng_pred),'eng')\n",
    "fra_true = np.full(len(fra_pred),'fra')\n",
    "ita_true = np.full(len(ita_pred),'ita')\n",
    "nld_true = np.full(len(nld_pred),'nld')\n",
    "spa_true = np.full(len(spa_pred),'spa')"
   ]
  },
  {
   "cell_type": "code",
   "execution_count": 106,
   "metadata": {},
   "outputs": [],
   "source": [
    "all_wrong = pd.DataFrame(columns = [\"phrases\", \"pred\"])\n",
    "\n",
    "languages = ['deu', 'eng', 'fra', 'ita', 'nld', 'spa']\n",
    "for language in languages:\n",
    "\n",
    "    probs = pd.DataFrame(LangId.predict_probs(f\"corpora/{language}_tst.txt\"))\n",
    "    probs['pred'] = probs.apply(lambda row: max(row, key=lambda x: x[1])[0], axis=1)\n",
    "    probs[\"true\"] = np.full(len(probs), language)\n",
    "    probs_wrong = probs[probs['pred'] != probs['true']]\n",
    "\n",
    "    with open(f'corpora/{language}_trn.txt', 'r', encoding='utf-8') as file:\n",
    "        raw = file.read()\n",
    "    lines = raw.split('\\n')\n",
    "    lines_data = []\n",
    "    for index in probs_wrong.index:\n",
    "        for line in lines:\n",
    "            if line.startswith(str(index) + '\\t'):\n",
    "                lines_data.append(line)\n",
    "    all_wrong = pd.concat([all_wrong, pd.DataFrame({\"phrases\": lines_data, \"pred\": probs_wrong[\"pred\"].tolist(), \n",
    "                                                    \"true\": probs_wrong[\"true\"].tolist()})], ignore_index = True)"
   ]
  },
  {
   "cell_type": "code",
   "execution_count": 108,
   "metadata": {},
   "outputs": [],
   "source": [
    "all_wrong.to_csv(\"all_wrong.csv\", index=False)"
   ]
  }
 ],
 "metadata": {
  "kernelspec": {
   "display_name": "Python 3",
   "language": "python",
   "name": "python3"
  },
  "language_info": {
   "codemirror_mode": {
    "name": "ipython",
    "version": 3
   },
   "file_extension": ".py",
   "mimetype": "text/x-python",
   "name": "python",
   "nbconvert_exporter": "python",
   "pygments_lexer": "ipython3",
   "version": "3.10.10"
  }
 },
 "nbformat": 4,
 "nbformat_minor": 2
}
